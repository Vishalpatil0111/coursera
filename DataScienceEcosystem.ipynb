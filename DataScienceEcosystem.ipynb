{
 "cells": [
  {
   "cell_type": "markdown",
   "id": "275a3a17",
   "metadata": {},
   "source": [
    "# Data Science Tools and Ecosystem"
   ]
  },
  {
   "cell_type": "markdown",
   "id": "c2284b0a",
   "metadata": {},
   "source": [
    "In this notebook ,data science tools and Ecosystem are introduced."
   ]
  },
  {
   "cell_type": "markdown",
   "id": "fbb05d3c",
   "metadata": {},
   "source": [
    "Data Science Languages \n",
    "1. python \n",
    "2. R\n",
    "3. java\n",
    "4. SQL\n"
   ]
  },
  {
   "cell_type": "markdown",
   "id": "b5999a6d",
   "metadata": {},
   "source": [
    "Data Science Library:\n",
    "1. numpy\n",
    "2. pandas\n",
    "3. scikitlearn\n",
    "4. scipy\n",
    "5. matplotlib\n",
    "6. seaborn"
   ]
  },
  {
   "cell_type": "markdown",
   "id": "40ba8ad9",
   "metadata": {},
   "source": [
    "|Data Science Tools|\n",
    "|------|\n",
    "|SAS|\n",
    "|TENSORFLOW|\n",
    "|APACHE HADOOP|"
   ]
  },
  {
   "cell_type": "markdown",
   "id": "641267c1",
   "metadata": {},
   "source": [
    "### Example of arithmatic operations"
   ]
  },
  {
   "cell_type": "code",
   "execution_count": 3,
   "id": "cc754642",
   "metadata": {},
   "outputs": [
    {
     "data": {
      "text/plain": [
       "17"
      ]
     },
     "execution_count": 3,
     "metadata": {},
     "output_type": "execute_result"
    }
   ],
   "source": [
    "#addition and multiplication\n",
    "(3*4)+5"
   ]
  },
  {
   "cell_type": "code",
   "execution_count": 4,
   "id": "76006918",
   "metadata": {},
   "outputs": [
    {
     "data": {
      "text/plain": [
       "3.3333333333333335"
      ]
     },
     "execution_count": 4,
     "metadata": {},
     "output_type": "execute_result"
    }
   ],
   "source": [
    "#convert minutes into hours\n",
    "200/60"
   ]
  },
  {
   "cell_type": "markdown",
   "id": "a5656054",
   "metadata": {},
   "source": [
    "__Objectives__\n",
    "* list popular language for Data Science\n",
    "* list popular library for Data Science\n",
    "* list of well known Data Science Tools\n",
    "* How to provide comments in the cell"
   ]
  },
  {
   "cell_type": "markdown",
   "id": "b71bb2f7",
   "metadata": {},
   "source": [
    "## Author\n",
    "vishal patil"
   ]
  },
  {
   "cell_type": "code",
   "execution_count": null,
   "id": "c0b5a401",
   "metadata": {},
   "outputs": [],
   "source": []
  }
 ],
 "metadata": {
  "kernelspec": {
   "display_name": "Python 3 (ipykernel)",
   "language": "python",
   "name": "python3"
  },
  "language_info": {
   "codemirror_mode": {
    "name": "ipython",
    "version": 3
   },
   "file_extension": ".py",
   "mimetype": "text/x-python",
   "name": "python",
   "nbconvert_exporter": "python",
   "pygments_lexer": "ipython3",
   "version": "3.10.4"
  }
 },
 "nbformat": 4,
 "nbformat_minor": 5
}
